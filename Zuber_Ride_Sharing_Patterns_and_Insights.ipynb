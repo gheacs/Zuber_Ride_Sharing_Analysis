#!/usr/bin/env python
# coding: utf-8

# ### Background

# As an analyst for Zuber, a new ride-sharing company launched in Chicago, I would like to find patterns in the available information. I want to understand passenger preferences and the impact of external factors on trips. Using the database, I will analyze data from competitors and test hypotheses related to the effect of weather on trip frequency.

# ### Import File

import pandas as pd
import matplotlib.pyplot as plt
import seaborn as sns
from scipy import stats as st

company_trips = pd.read_csv('/datasets/project_sql_result_01.csv')
dropoff_trips = pd.read_csv('/datasets/project_sql_result_04.csv')
airport_trips = pd.read_csv('/datasets/project_sql_result_07.csv')

# ### Exploratory data analysis (EDA)

company_trips

# The output suggests that Flash Cab has the highest number of trips (19,558), followed by Taxi Affiliation Services (11,422), and Medallion Leasing (10,367). The output also shows that the number of trips made by each company varies widely, with some companies having only a few trips to their name.

dropoff_trips

# The output suggests that the Loop neighborhood had the highest average number of trips per day (10,727), followed by River North (9,524) and Streeterville (6,665). It also shows that some locations have a much lower average number of trips per day, such as Burnside with only 2.33 trips per day on average.

company_trips.info()
dropoff_trips.info()

# The average_trips column is of type float64, which means it contains numerical data with decimal points. We should convert the data to integer to align with the trips_amount in table company_trips.

dropoff_trips['average_trips'] = dropoff_trips['average_trips'].astype(int)

top_location = dropoff_trips.sort_values('average_trips', ascending=False).head(10)
top_location

# The data is sorted in descending order by the average number of trips, with the location "Loop" having the highest average number of trips (10,727) and "Sheffield & DePaul" having the tenth highest average number of trips (1,259).
# Based on this data, we might infer that the locations with higher average numbers of trips are popular destinations for ride-sharing customers, and that the locations with lower average numbers of trips are less popular. We might also speculate that factors such as proximity to tourist attractions, residential neighborhoods, or business districts could influence the popularity of certain dropoff locations.

plt.subplots(figsize=(15,8))
sns.boxplot(x='dropoff_location_name', y='average_trips', data=top_location)
plt.show()

plt.subplots(figsize=(15,8))
sns.boxplot(x='company_name', y='trips_amount', data=company_trips)
plt.show()

top_20 = company_trips.sort_values('trips_amount', ascending=False).head(10)
top_20

plt.subplots(figsize=(15,8))
sns.boxplot(x='company_name', y='trips_amount', data=top_20)
plt.show()

# General conclusions from above graphs:
# 1. The difference between top 5 drop-off locations and the remanining locations is quite significant. 
# 2. Flash cab has the most trips_amount with significant difference with the second place, Taxi Affiliation Service. The remaining 9 cab companies tend to have the same amount of trips.

airport_trips

# This file contains data on trips from the Loop to O'Hare International Airport.

# Columns:
# 1. start_ts: pickup date and time
# 2. weather_conditions: weather conditions at the start of the trip
# 3. duration_seconds: trip duration in seconds

# - H0 : The average duration of trips from the Loop to O'Hare International Airport has no difference on rainy Saturdays.
# - H1 : The average duration of trips from the Loop to O'Hare International Airport changes on rainy Saturdays.

airport_trips['start_ts'] = pd.to_datetime(airport_trips['start_ts'])

airport_trips['day_trips'] = airport_trips['start_ts'].dt.day_name()
airport_trips

non_saturday_trips = airport_trips[airport_trips['day_trips'] != 'Saturday']
print("Number of non-Saturday trips: ", len(non_saturday_trips))

bad_weather_trips = airport_trips[airport_trips['weather_conditions'] == 'Bad']
print("Number of trips with bad weather conditions: ", len(bad_weather_trips))

# There were no trips recorded on other days that also had bad weather conditions. 

rainy_saturday_duration = airport_trips[(airport_trips['day_trips'] == 'Saturday') & (airport_trips['weather_conditions'] == 'Bad')]['duration_seconds']
rainy_saturday_duration

good_saturday_duration = airport_trips[(airport_trips['weather_conditions'] == 'Good')]['duration_seconds']
good_saturday_duration

alpha = 0.05

results = st.ttest_ind(rainy_saturday_duration , good_saturday_duration, nan_policy='omit')

print('p-value: ', results.pvalue)

if results.pvalue < alpha:
    print("Kita menolak hipotesis nol")
else:
    print("Kita tidak dapat menolak hipotesis nol") 

# Overall conclusion:
# 1. The data suggests that the Loop, River North, Streeterville, West Loop, and O'Hare are the top five destinations for taxi rides in the city, 
# 2. while Flash Cab, Taxi Affiliation Services, Medallion Leasing, Yellow Cab, and Taxi Affiliation Service Yellow are the top five taxi companies in terms of the number of trips they provide.
# 3. The average cab trip durations from the Loop to O'Hare International Airport is affected by the weather condition. Average trips will have longer duration on bad weather than good weather.
